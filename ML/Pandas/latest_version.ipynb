{
 "cells": [
  {
   "cell_type": "code",
   "execution_count": null,
   "metadata": {},
   "outputs": [],
   "source": [
    "# This makes it so that jupyter wont just output the last line, but everything that gets outputted.\n",
    "from IPython.core.interactiveshell import InteractiveShell\n",
    "InteractiveShell.ast_node_interactivity = \"all\"\n",
    "import pandas as pd\n",
    "import numpy as np"
   ]
  },
  {
   "cell_type": "markdown",
   "metadata": {},
   "source": [
    "## Beskrivning\n",
    "\n",
    "Kickstarter är en tjänst där vem som helst kan försöka få finansiering av privatpersoner och företag för att förverkliga en projekt. Datan består några tusen projekt som varit publicerade."
   ]
  },
  {
   "cell_type": "code",
   "execution_count": null,
   "metadata": {},
   "outputs": [],
   "source": [
    "\n",
    "df =  pd.read_csv(\"kickstarter.csv\")\n",
    "df"
   ]
  },
  {
   "cell_type": "markdown",
   "metadata": {},
   "source": [
    "### Printa ut de 5 första raderna"
   ]
  },
  {
   "cell_type": "code",
   "execution_count": null,
   "metadata": {},
   "outputs": [],
   "source": [
    "df.head(5)"
   ]
  },
  {
   "cell_type": "code",
   "execution_count": null,
   "metadata": {},
   "outputs": [],
   "source": [
    "# Ta ej bort denna cell"
   ]
  },
  {
   "cell_type": "markdown",
   "metadata": {},
   "source": [
    "### Printa ut 20 slumpmässiga rader från datasettet"
   ]
  },
  {
   "cell_type": "code",
   "execution_count": null,
   "metadata": {},
   "outputs": [],
   "source": [
    "df.sample(20)"
   ]
  },
  {
   "cell_type": "code",
   "execution_count": null,
   "metadata": {},
   "outputs": [],
   "source": [
    "# Ta ej bort denna cell"
   ]
  },
  {
   "cell_type": "markdown",
   "metadata": {},
   "source": [
    "### Visa en sammanställning av information från din dataframe"
   ]
  },
  {
   "cell_type": "code",
   "execution_count": null,
   "metadata": {},
   "outputs": [],
   "source": [
    "df.info() \n",
    "# Om man vill få yttligare info om datasettet så kan man också köra describe() functionen \n"
   ]
  },
  {
   "cell_type": "code",
   "execution_count": null,
   "metadata": {},
   "outputs": [],
   "source": [
    "# Ta ej bort denna cell"
   ]
  },
  {
   "cell_type": "markdown",
   "metadata": {},
   "source": [
    "### Printa rad 5 till rad 10 (inkluderat 10) med hjälp av .iloc"
   ]
  },
  {
   "cell_type": "code",
   "execution_count": null,
   "metadata": {},
   "outputs": [],
   "source": [
    "df.iloc[5:11]"
   ]
  },
  {
   "cell_type": "code",
   "execution_count": null,
   "metadata": {},
   "outputs": [],
   "source": [
    "# Ta ej bort denna cell"
   ]
  },
  {
   "cell_type": "markdown",
   "metadata": {},
   "source": [
    "### Byt index (radernas namn) så att index är baserat på den befintliga kolumnen ID, ändringen ska vara permanent (använd inte inplace)"
   ]
  },
  {
   "cell_type": "code",
   "execution_count": null,
   "metadata": {},
   "outputs": [],
   "source": [
    "df = df.set_index('ID') #\n",
    "df"
   ]
  },
  {
   "cell_type": "code",
   "execution_count": null,
   "metadata": {},
   "outputs": [],
   "source": [
    "# Ta ej bort denna cell"
   ]
  },
  {
   "cell_type": "markdown",
   "metadata": {},
   "source": [
    "### Displaya raderna med indexet \"121816660ID\" till \"1503277376ID\" med hjälp av .loc\n",
    "- Förklara varför en dataframe på många sätt är en blandning mellan en lista och dictionary, använd .iloc och .loc när du argumenterar"
   ]
  },
  {
   "cell_type": "code",
   "execution_count": null,
   "metadata": {},
   "outputs": [],
   "source": [
    "df.loc[\"1218166601ID\" : \"1503277376ID\"] \n",
    "\n",
    "\n"
   ]
  },
  {
   "cell_type": "code",
   "execution_count": null,
   "metadata": {},
   "outputs": [],
   "source": [
    "\n",
    "\n",
    "people = {\n",
    "    'first': ['Corey', 'Jane', 'John', 'Chris'], \n",
    "    'last': ['Schafer', 'Doe', 'Dean', 'Schafer'], \n",
    "    'email': ['CoreyMSchafer@gmail.com', 'JaneDoe@email.com', 'JohnDoe@email.com','Anonymous@email.com'],\n",
    "    'age': ['33', '55', '63', '36',]\n",
    "}\n",
    "\n",
    "# Exempelt ovan är en blandning av dict och lista, om vi importerar denna datan i jupyter notebook och andväda pandas funktionen\n",
    "# pd.DataFrame() så kommer vi att få en dataframe. En dataframe är en två dimensionellt data struktur, man kan också säga ett två \n",
    "# dimensionellt lista med rader och kolummner. Eftersom vi har key value pairs också så är data-framen en blandning av dict och lista som okscå kallas för array.\n",
    "# kortfattat kan man säga för att vi kan acessa båda via index och label.\n",
    "df1 = pd.DataFrame(people)\n",
    "df1\n",
    "df1.iloc[0] # Med hjälp av iloc funktionen i pandas så kan vi acessa olika rader i vår dataframe.\n",
    "# iloc funktionen är enligt pandas dokumentation integer position baserad, men kan också användas med boolean array. \n",
    "# .loc funktionen är främst label baserad, men kan också användas med boolean array.\n"
   ]
  },
  {
   "cell_type": "code",
   "execution_count": null,
   "metadata": {},
   "outputs": [],
   "source": [
    "# Ta ej bort denna cell"
   ]
  },
  {
   "cell_type": "markdown",
   "metadata": {},
   "source": [
    "### Displaya alla rader med currencyn \"USD\" genom att använda en mask"
   ]
  },
  {
   "cell_type": "code",
   "execution_count": null,
   "metadata": {},
   "outputs": [],
   "source": [
    "\n",
    "\n",
    "# df_new = df[df[\"goal\"] == 200] #\n",
    "# df_new\n",
    "\n",
    "df.loc[df['currency'] == 'USD']"
   ]
  },
  {
   "cell_type": "code",
   "execution_count": null,
   "metadata": {},
   "outputs": [],
   "source": [
    "# Ta ej bort denna cell"
   ]
  },
  {
   "cell_type": "code",
   "execution_count": null,
   "metadata": {},
   "outputs": [],
   "source": [
    "df['pledged']"
   ]
  },
  {
   "cell_type": "markdown",
   "metadata": {},
   "source": [
    "### kolumnen \"pledged\" har en hel del värden med 0.0. Ändra dessa till NaN-datatypen istället, använd .loc."
   ]
  },
  {
   "cell_type": "code",
   "execution_count": null,
   "metadata": {},
   "outputs": [],
   "source": [
    "#df[\"pledged\"] = df[\"pledged\"].replace(0.0, np.nan)\n",
    "df.loc[df[\"pledged\"] == 0.0, \"pledged\"] = np.nan\n"
   ]
  },
  {
   "cell_type": "code",
   "execution_count": null,
   "metadata": {},
   "outputs": [],
   "source": [
    "df['pledged']"
   ]
  },
  {
   "cell_type": "markdown",
   "metadata": {},
   "source": [
    "### Printa ut alla rader som har NaN med sina vanliga värden (dvs. det ska inte bara vara True / False), ___Du ska använda dig av en metod/funktion___"
   ]
  },
  {
   "cell_type": "code",
   "execution_count": null,
   "metadata": {},
   "outputs": [],
   "source": [
    "# Du ska **INTE** göra så här: ks[ks[\"pledged\"] == np.NaN] - du kan ju testa, det kommer inte att fungera!\n",
    "df[df['pledged'].isna()] ## fel, men close\n"
   ]
  },
  {
   "cell_type": "code",
   "execution_count": null,
   "metadata": {},
   "outputs": [],
   "source": [
    "# Ta ej bort denna cell"
   ]
  },
  {
   "cell_type": "markdown",
   "metadata": {},
   "source": [
    "### Skapa en ny kolumn som är heter pledged_real_diff som representerar skillnaden i USD mellan pledged usd och pledged_usd_real.\n",
    "Hint: Du kommer behöva \"cleana\" \"pledged usd\" så att du kan utföra matematiska operationer på det genom att först städa bort onödig text och sedan konvertera det till en float."
   ]
  },
  {
   "cell_type": "code",
   "execution_count": null,
   "metadata": {},
   "outputs": [],
   "source": [
    "#df[\"usd pledged\"].str.split(\"$usd\") #check\n",
    "\n",
    "df['usd pledged'] = df['usd pledged'].map(lambda x: x.lstrip('$').rstrip('$usd'))\n",
    "df['usd pledged']\n",
    "df['usd pledged'].str.replace(\"$\", \"\")\n",
    "df.dtypes\n",
    "df['usd pledged'] =df['usd pledged'].apply(lambda x: float(x.split()[0].replace('$', '')))\n",
    "df[\"pledged_real_diff\"] = (df[\"usd pledged\"] - df[\"usd_pledged_result\"]) #vänd\n",
    "df\n",
    "#df['usd pledged'].str.replace(\"$\", \"\")\n",
    "#df['usd pledged'] = df ['usd pledged'].astype (float)\n",
    "\n",
    "#df[\"pledged_real_diff\"] = (df[\"usd pledged\"] - df[\"usd_pledged_result\"])\n"
   ]
  },
  {
   "cell_type": "markdown",
   "metadata": {},
   "source": [
    "### Displaya hur många kickstarterprojekt det finns uppdelat på kategori med hjälp av kolumnen main_category"
   ]
  },
  {
   "cell_type": "code",
   "execution_count": null,
   "metadata": {},
   "outputs": [],
   "source": [
    "df[\"main_category\"].value_counts()"
   ]
  },
  {
   "cell_type": "code",
   "execution_count": null,
   "metadata": {},
   "outputs": [],
   "source": [
    "# Ta ej bort denna cell"
   ]
  },
  {
   "cell_type": "markdown",
   "metadata": {},
   "source": [
    "### Vad är det högsta resultatet för usd_pledged_result? Du ska använda dig av en metod."
   ]
  },
  {
   "cell_type": "code",
   "execution_count": null,
   "metadata": {},
   "outputs": [],
   "source": [
    "\n",
    "\n",
    "df['usd_pledged_result'].max() ##"
   ]
  },
  {
   "cell_type": "code",
   "execution_count": null,
   "metadata": {},
   "outputs": [],
   "source": [
    "# Ta ej bort denna cell"
   ]
  },
  {
   "cell_type": "code",
   "execution_count": null,
   "metadata": {},
   "outputs": [],
   "source": [
    "df[df['usd_pledged_result'] == df['usd_pledged_result'].min()]"
   ]
  },
  {
   "cell_type": "code",
   "execution_count": null,
   "metadata": {},
   "outputs": [],
   "source": [
    "# Ta ej bort denna cell\n"
   ]
  },
  {
   "cell_type": "markdown",
   "metadata": {},
   "source": [
    "### Hitta alla rader som innehåller ordet \"Cross\" i kolumnen \"name\" med hjälp av string-metoder och displaya högsta värdet för kolumnen \"pledged\""
   ]
  },
  {
   "cell_type": "code",
   "execution_count": null,
   "metadata": {},
   "outputs": [],
   "source": [
    "df[df[\"name\"].str.contains(\"Cross\")] ##\n",
    "#df.sort_values(\"pledged\",  ascending = False).head(1)\n",
    "df['pledged'].max()\n"
   ]
  },
  {
   "cell_type": "code",
   "execution_count": null,
   "metadata": {},
   "outputs": [],
   "source": [
    "# Ta ej bort denna cell"
   ]
  },
  {
   "cell_type": "markdown",
   "metadata": {},
   "source": [
    "### Displaya hur många kickstarterprojekt uppdelat på kategori med hjälp av kolumnen main_category. Displaya topp 5 sorterat från högst till lägst."
   ]
  },
  {
   "cell_type": "code",
   "execution_count": null,
   "metadata": {},
   "outputs": [],
   "source": [
    "df[\"main_category\"].value_counts().sort_values(ascending= False).head(5)\n",
    "#file.sort_values(\"Fare\",  ascending = False).head(11)"
   ]
  },
  {
   "cell_type": "code",
   "execution_count": null,
   "metadata": {},
   "outputs": [],
   "source": [
    "# Ta ej bort denna cell"
   ]
  },
  {
   "cell_type": "markdown",
   "metadata": {},
   "source": [
    "### Displaya de top 10 ovanligaste KOMBINATIONERNA av \"main_category\" och \"category\" som är country \"US\""
   ]
  },
  {
   "cell_type": "code",
   "execution_count": null,
   "metadata": {},
   "outputs": [],
   "source": [
    "df_country = df.loc[df['country'] == 'US']\n",
    "\n",
    "df_country[[\"main_category\", \"category\"]].value_counts().tail(10)"
   ]
  },
  {
   "cell_type": "code",
   "execution_count": null,
   "metadata": {},
   "outputs": [],
   "source": [
    "# Ta ej bort denna cell"
   ]
  },
  {
   "cell_type": "markdown",
   "metadata": {},
   "source": [
    "### Dela upp projekten i grupper baserat på main_category, vad är den genomsnittliga funding-målet dom har (usd_funding_goal). Sortera resultatet från högt till lågt"
   ]
  },
  {
   "cell_type": "code",
   "execution_count": null,
   "metadata": {},
   "outputs": [],
   "source": [
    "df.groupby(\"main_category\")['usd_funding_goal'].mean().sort_values(ascending= False)"
   ]
  },
  {
   "cell_type": "code",
   "execution_count": null,
   "metadata": {},
   "outputs": [],
   "source": [
    "# Ta ej bort denna cell"
   ]
  },
  {
   "cell_type": "markdown",
   "metadata": {},
   "source": [
    "### Displaya en sammanställning av samma gruppering som förra uppgiften. Den ska nu innehålla flera kolumner med minst genomsnitt, max, min, count\n",
    "- Använd först .describe och displaya din output\n",
    "- Använd .agg() och displaya din output, du ska endast inkludera genomsnitt, max, min, count"
   ]
  },
  {
   "cell_type": "code",
   "execution_count": null,
   "metadata": {},
   "outputs": [],
   "source": [
    "df_group = df.groupby(\"main_category\")['usd_funding_goal'].describe()\n",
    "df_group\n",
    "df.agg(['max', 'min', 'count']) # använd inte df_group här\n"
   ]
  },
  {
   "cell_type": "code",
   "execution_count": null,
   "metadata": {},
   "outputs": [],
   "source": [
    "# Ta ej bort denna cell"
   ]
  },
  {
   "cell_type": "markdown",
   "metadata": {},
   "source": [
    "### Gruppera baserat på kolumnen \"state\" och displaya genomsnittet av backers (dvs. antal folk som betalat pengar för att stötta projektet). Vad drar du för slutsats? Det räcker med max 2 meningar."
   ]
  },
  {
   "cell_type": "code",
   "execution_count": null,
   "metadata": {},
   "outputs": [],
   "source": [
    "df.groupby(\"state\")['backers'].mean() # Baserad på den statistiska värden d.v.s genomsitet success ratignen är väldigt hög. \n",
    "# Det betyder att de flesta projekt som har fått ekonomisk stöd har lyckats. Man kan också se att näst största värden är på suspended.\n",
    "# Det betyder att en hel del projekt har blivit suspended även fast de har haft backers."
   ]
  },
  {
   "cell_type": "markdown",
   "metadata": {},
   "source": [
    "### Använd .apply() \n",
    "1. Undersök vilka kategorier det finns i kolumnen \"state\"\n",
    "2. Skapa en funktion som baserat på värdena i kolumnen state modifierar kolumnen \"goal\" med en * för success, \"!\" för failure eller canceled, \"---\" för \"suspended\".\n",
    "3. Displaya ett sample av 20 rader från din modifierade kolumn  "
   ]
  },
  {
   "cell_type": "code",
   "execution_count": null,
   "metadata": {},
   "outputs": [],
   "source": [
    "#df.apply(\"state\")\n",
    "def add_symbol(row):\n",
    "    if row[\"state\"]  == \"live\":\n",
    "        row[\"state\"] = row[\"state\"] + \" ✨ \"\n",
    "    if row['state'] == \"successful\":\n",
    "        row[\"state\"] = row[\"state\"] + \" 🏆 \"\n",
    "    if row[\"state\"] == \"undefined\":\n",
    "        row[\"state\"] = row[\"state\"] + \"🤔\"\n",
    "    if row[\"state\"] == \"canceled\":\n",
    "        row[\"state\"] = row[\"state\"] + \" 🚫 \"\n",
    "    if row[\"state\"] == \"failed\":\n",
    "        row[\"state\"] = row[\"state\"] + \" ❌ \"\n",
    "    if row[\"state\"] == \"suspended\":\n",
    "        row[\"state\"] = row[\"state\"] + \" 🛑 \"\n",
    "    \n",
    "    return row      \n",
    "df.apply(add_symbol, axis= \"columns\")\n",
    "\n",
    "pd.DataFrame(df[\"state\"].sample(20))"
   ]
  },
  {
   "cell_type": "code",
   "execution_count": null,
   "metadata": {},
   "outputs": [],
   "source": [
    "df[\"state\"].unique()"
   ]
  },
  {
   "cell_type": "code",
   "execution_count": null,
   "metadata": {},
   "outputs": [],
   "source": [
    "def add_symbol(row):\n",
    "    if row[\"state\"]  == \"live\":\n",
    "        row[\"state\"] = row[\"state\"] + \" ### \"\n",
    "    if row['state'] == \"successful\":\n",
    "        row[\"state\"] = row[\"state\"] + \" (()) \"\n",
    "    if row[\"state\"] == \"undefined\":\n",
    "        row[\"state\"] = row[\"state\"] + \"@@\"\n",
    "    if row[\"state\"] == \"canceled\":\n",
    "        row[\"state\"] = row[\"state\"] + \" !!! \"\n",
    "    if row[\"state\"] == \"failed\":\n",
    "        row[\"state\"] = row[\"state\"] + \" $$ \"\n",
    "    if row[\"state\"] == \"suspended\":\n",
    "        row[\"state\"] = row[\"state\"] + \" % \"\n",
    "    \n",
    "    return row      \n",
    "df.apply(add_symbol, axis= \"columns\")\n",
    "pd.DataFrame((add_symbol, df[\"state\"]))\n",
    "pd.DataFrame(df[\"state\"])"
   ]
  }
 ],
 "metadata": {
  "kernelspec": {
   "display_name": "Python 3.10.6 64-bit",
   "language": "python",
   "name": "python3"
  },
  "language_info": {
   "codemirror_mode": {
    "name": "ipython",
    "version": 3
   },
   "file_extension": ".py",
   "mimetype": "text/x-python",
   "name": "python",
   "nbconvert_exporter": "python",
   "pygments_lexer": "ipython3",
   "version": "3.10.6"
  },
  "orig_nbformat": 4,
  "vscode": {
   "interpreter": {
    "hash": "0df3b50e5bb0f4f8707e8e43786bf9d1f774c65ae458b637f0ea324501ac4c6c"
   }
  }
 },
 "nbformat": 4,
 "nbformat_minor": 2
}
